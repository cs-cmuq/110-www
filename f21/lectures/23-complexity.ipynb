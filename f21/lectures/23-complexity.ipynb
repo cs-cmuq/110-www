{
 "cells": [
  {
   "cell_type": "markdown",
   "metadata": {},
   "source": [
    "# Complexity\n",
    "\n",
    "When writing programs, specially if one is dealing with a big amount of data, it is important to take care how fast the program runs. A small modification in an algorithm may bring execution time from hours to seconds. In computer science, the area that studies algorithm efficiency is called **complexity theory**. In this lecture, we learn how to reason about the efficiency of the programs we write.\n",
    "\n",
    "Let's start with an example. Both functions below compute the sum of numbers from 1 to n."
   ]
  },
  {
   "cell_type": "code",
   "execution_count": 1,
   "metadata": {
    "collapsed": true
   },
   "outputs": [],
   "source": [
    "def sum1(n):\n",
    "    s = 0\n",
    "    for i in range(n):\n",
    "        s += (i+1)\n",
    "    return s\n",
    "\n",
    "def sum2(n):\n",
    "    s = (n * (n + 1)) // 2\n",
    "    return s"
   ]
  },
  {
   "cell_type": "markdown",
   "metadata": {},
   "source": [
    "How fast do they run?\n",
    "\n",
    "Since we can plot graphs now, let's plot the graph of how long it takes for each function to run, as a function of n."
   ]
  },
  {
   "cell_type": "code",
   "execution_count": 2,
   "metadata": {},
   "outputs": [
    {
     "data": {
      "image/png": "[encoded data removed]",
      "text/plain": [
       "<Figure size 720x432 with 1 Axes>"
      ]
     },
     "metadata": {},
     "output_type": "display_data"
    }
   ],
   "source": [
    "import time\n",
    "import matplotlib.pyplot as plt\n",
    "\n",
    "plt.figure(figsize=(10,6))\n",
    "\n",
    "xs = []\n",
    "ys = []\n",
    "for i in range(1000):\n",
    "    t0 = time.time()\n",
    "    s = sum1(i)\n",
    "    t1 = time.time()\n",
    "    t = t1 - t0\n",
    "    xs += [i]\n",
    "    ys += [t]\n",
    "    \n",
    "plt.plot(xs, ys, 'r')\n",
    "\n",
    "xs = []\n",
    "ys = []\n",
    "for i in range(1000):\n",
    "    t0 = time.time()\n",
    "    s = sum2(i)\n",
    "    t1 = time.time()\n",
    "    t = t1 - t0\n",
    "    xs += [i]\n",
    "    ys += [t]\n",
    "    \n",
    "plt.plot(xs, ys, 'b')\n",
    "\n",
    "plt.show()"
   ]
  },
  {
   "cell_type": "markdown",
   "metadata": {},
   "source": [
    "If you needed a fast function for adding numbers from 1 to n, which one would you choose? It is clear that `sum2` is better. That is because, as n grows, the *running time* of `sum2` remains more or less constant, while the running time of `sum1` grows as n grows.\n",
    "\n",
    "In practice, we are not worried exactly about how fast the code runs for a particular input, but **how much slower it gets as the input grows**. \n",
    "\n",
    "Ideally, we would all like to have code that behaves as `sum2`, i.e., the running time is more or less constant regardless of the input size. But more often than not, algorithms take longer to run as the input grows. It is important to be able to understand how the input size affects our code, and we don't have to plot graphs to do that each time. Instead, we perform the **complexity analysis** of the code.\n",
    "\n",
    "## Complexity analysis\n",
    "\n",
    "There are two important parts of a complexity analysis: *computing the number of steps* and *deciding what is the input size*.\n",
    "\n",
    "### Computation steps\n",
    "\n",
    "The efficiency of a program is measured by counting the number of steps it takes to reach a solution. Each atomic computation operation counts as one step. These include:\n",
    "\n",
    "- Assignment (e.g. `L = []`)\n",
    "- Arithmetic operations (e.g. `x + y`)\n",
    "- Boolean comparisons (e.g. `c == 't'`)\n",
    "- Indexing (e.g. `L[i]`)\n",
    "\n",
    "What are the number of steps `sum1` and `sum2` take for n = 5?"
   ]
  },
  {
   "cell_type": "code",
   "execution_count": 3,
   "metadata": {},
   "outputs": [
    {
     "name": "stdout",
     "output_type": "stream",
     "text": [
      "n: 5  steps: 16\n",
      "n: 5  steps: 4\n"
     ]
    },
    {
     "data": {
      "text/plain": [
       "15"
      ]
     },
     "execution_count": 3,
     "metadata": {},
     "output_type": "execute_result"
    }
   ],
   "source": [
    "def sum1_steps(n):\n",
    "    s = 0\n",
    "    steps = 1\n",
    "    for i in range(n):\n",
    "        s += (i+1)\n",
    "        steps += 3\n",
    "    print(\"n:\", n, \" steps:\", steps)\n",
    "    return s\n",
    "\n",
    "def sum2_steps(n):\n",
    "    s = (n * (n + 1)) // 2\n",
    "    steps = 4\n",
    "    print(\"n:\", n, \" steps:\", steps)\n",
    "    return s\n",
    "\n",
    "sum1_steps(5)\n",
    "sum2_steps(5)"
   ]
  },
  {
   "cell_type": "markdown",
   "metadata": {},
   "source": [
    "### Input size\n",
    "\n",
    "Since we want to analyse how our program behaves as the input grows, we need to decide on **what it is about the input that affects the number of steps**. \n",
    "\n",
    "For the `sum1` function, the larger n is, the more times the loop is run, which incurs on 3 extra steps. So the actual value n is a good input measure. The number of steps can be computed by f(n) = 3*n + 1.\n",
    "\n",
    "For the `sum2` function, no matter how large n is, it will take the same amount of time. So this function is independent of input. Another way of seeing this is: regardless of the input size we choose, the function takes constant time. The number of steps is f(n) = 4.\n",
    "\n",
    "Sometimes, more than one input size will affect how the code runs, and that's ok. That simply means that the number of steps will be a function of two values.\n",
    "\n",
    "Take the function `myCount` below. What would you use as the input size?"
   ]
  },
  {
   "cell_type": "code",
   "execution_count": 4,
   "metadata": {},
   "outputs": [],
   "source": [
    "def myCount(e, L):\n",
    "    c = 0\n",
    "    for x in L:\n",
    "        if x == e:\n",
    "            c += 1\n",
    "    return c"
   ]
  },
  {
   "cell_type": "markdown",
   "metadata": {},
   "source": [
    "The number of steps this function takes will depend on the number of times the loop runs, which, in turn, depends on the number of elements in `L`. A reasonable input size then is the *number of elements in L*. Note that the input `e` does not play a role on the number of steps, and so we can safely ignore it for the input measure.\n",
    "\n",
    "What about the `isIn` function? What would be its input size?"
   ]
  },
  {
   "cell_type": "code",
   "execution_count": 5,
   "metadata": {
    "collapsed": true
   },
   "outputs": [],
   "source": [
    "def isIn(e, L):\n",
    "    for x in L:\n",
    "        if e == x:\n",
    "            return True\n",
    "    return False"
   ]
  },
  {
   "cell_type": "markdown",
   "metadata": {},
   "source": [
    "You might have noticed that there is something different about the `isIn` function. The number of steps it will take not only depends on the number of elements in the list `L` but on *where* element `e` is in `L` (if anywhere). Taking this kind of details into account will quickly become too overwhelming or specific. Think, for example, on sorting algorithms. Depending on the algorithm, the number of steps it performs depends on how many elements are out of order.\n",
    "\n",
    "That is why, when it comes to complexity analysis, we will only be worried about the **worst case scenario:** there one in which the function will take the most amount of steps. By being as pessimistic as possible, we are safe that the program will not take longer to run, and if it runs faster, all the better.\n",
    "\n",
    "Finding the balance of what we can abstract away and what needs to be taken into account might sound complicated. It helps sometimes to think of the extremes. On one end, we are overly worried about the exact number of steps. and this will depend on all sorts of details of the input, which will get out of hand and too complicated to handle. On the other hand, we abstract away too many details, and just choose a ridiculous amount of steps as our upper bound. Certainly the program will take fewer than that, but this is not at all informative of the running time. (If I tell you your final grades will be out by December this year, it is a true statement, but not really helpful.)\n",
    "\n",
    "Fow our `isIn` function above, the worst case is when `e` is not in `L` at all. In which case it runs through all iterations of the loop, without ending prematurely. And what determines how many times the loop runs is the length of `L`, so that is the input size used for complexity analysis.\n",
    "\n",
    "## Big-O notation\n",
    "\n",
    "There is yet one more abstraction we can make. We are interested in how much the running time grows as the input increases. If we plot the graph for running time, this measure is represented by how *steep* this curve is. Suppose we have measures of steps for two functions:\n",
    "\n",
    "f(n) = 2*n + 10\n",
    "\n",
    "g(n) = n + 1000\n",
    "\n",
    "Which one is worse? Which one has a faster growth rate as n increases? Let's plot them and see."
   ]
  },
  {
   "cell_type": "code",
   "execution_count": 6,
   "metadata": {},
   "outputs": [
    {
     "data": {
      "image/png": "[encoded data removed]",
      "text/plain": [
       "<Figure size 432x288 with 1 Axes>"
      ]
     },
     "metadata": {},
     "output_type": "display_data"
    }
   ],
   "source": [
    "xs = []\n",
    "ys = []\n",
    "for n in range(10000):\n",
    "    xs += [n]\n",
    "    y = 2*n + 10\n",
    "    ys += [y]\n",
    "    \n",
    "plt.plot(xs,ys,'r')\n",
    "\n",
    "xs = []\n",
    "ys = []\n",
    "for n in range(10000):\n",
    "    xs += [n]\n",
    "    y = n + 1000\n",
    "    ys += [y]\n",
    "    \n",
    "plt.plot(xs,ys,'b')\n",
    "\n",
    "plt.show()"
   ]
  },
  {
   "cell_type": "markdown",
   "metadata": {},
   "source": [
    "Even though function f grows more, they are both *linear* functions. That means that runtime will increase linearly with n. In other words, if n increased by 10, the runtime will increase by a factor of 10, regardless of whether this increase was from 10 to 20 or from 500 to 510. That's a good thing about linear functions, they don't grow too fast.\n",
    "\n",
    "However, see what happens when we compare f with the function h:\n",
    "\n",
    "h(n) = n$^2$ + 2"
   ]
  },
  {
   "cell_type": "code",
   "execution_count": 7,
   "metadata": {},
   "outputs": [
    {
     "data": {
      "image/png": "[encoded data removed]",
      "text/plain": [
       "<Figure size 432x288 with 1 Axes>"
      ]
     },
     "metadata": {},
     "output_type": "display_data"
    }
   ],
   "source": [
    "xs = []\n",
    "ys = []\n",
    "for n in range(1000):\n",
    "    xs += [n]\n",
    "    y = 2*n + 10\n",
    "    ys += [y]\n",
    "    \n",
    "plt.plot(xs,ys,'r')\n",
    "\n",
    "xs = []\n",
    "ys = []\n",
    "for n in range(1000):\n",
    "    xs += [n]\n",
    "    y = n*n + 2\n",
    "    ys += [y]\n",
    "    \n",
    "plt.plot(xs,ys,'b')\n",
    "\n",
    "plt.show()"
   ]
  },
  {
   "cell_type": "markdown",
   "metadata": {},
   "source": [
    "Surprisingly, function h grows so fast, that f looks like a constant function (although we know it is not!).\n",
    "\n",
    "That is because h is a *quadratic* function. Differently from a linear function, increasing the input size from 500 to 510 will cause a much much higher increase in runtime than increasing the input size from 10 to 20.\n",
    "\n",
    "When analysing program complexity, we are only worried on how fast running time grows with the growth of input, so the important part of all of those functions is the *dominating factor*.\n",
    "\n",
    "The big-O notation describes functions' asymptotic behavior (i.e. its dominating factor, or how fast it grows, or how steep its curve it). For the functions above, we say that f is $O(n)$, and h is $O(n^2)$ (read \"big oh of n squared\" -- or quadratic). Typically, the complexity of algorithms will fall in one of these common complexities (in decreasing speed):\n",
    "\n",
    "- $O(1)$: constant (e.g. if $f(n) = 4$ then $f$ is $O(1)$). This is the fastest you can get.\n",
    "- $O(\\log n)$: logarithmic\n",
    "- $O(\\sqrt{n})$: square root\n",
    "- $O(n)$: linear (e.g. if $f(n) = 10n + 2$ then $f$ is $O(n)$). This is generally still considered good.\n",
    "- $O(n \\log n)$: linearithmic, loglinear or quasilinear\n",
    "- $O(n^2)$: quadratic\n",
    "- $O(n^3)$: cubic\n",
    "- $O(n^k)$: polynomial\n",
    "- $O(k^n)$: exponential (e.g. if $f(n) = 2^{4n}$ then $f$ is $O(2^n)$). This is generally considered slow (although we \\emph{can} get much worse!).\n",
    "- $O(n!)$: factorial. Algorithms falling in this category cannot usually be used in practice for really big $n$.\n",
    "\n",
    "By comparing the asymptotic behavior of two programs, we can identify which one behaves best when the input size is increased. The following graph gives us an idea of how different functions compare:"
   ]
  },
  {
   "cell_type": "code",
   "execution_count": 8,
   "metadata": {},
   "outputs": [
    {
     "data": {
      "image/png": "[encoded data removed]",
      "text/plain": [
       "<Figure size 432x288 with 1 Axes>"
      ]
     },
     "metadata": {},
     "output_type": "display_data"
    }
   ],
   "source": [
    "import math\n",
    "\n",
    "xs = []\n",
    "ys = []\n",
    "for n in range(1,30):\n",
    "    xs += [n]\n",
    "    y = 50\n",
    "    ys += [y]\n",
    "    \n",
    "plt.plot(xs, ys, 'r', label='constant')\n",
    "\n",
    "xs = []\n",
    "ys = []\n",
    "for n in range(1,30):\n",
    "    xs += [n]\n",
    "    y = 400*math.log(n)\n",
    "    ys += [y]\n",
    "    \n",
    "plt.plot(xs, ys, 'b', label='logarithmic')\n",
    "\n",
    "xs = []\n",
    "ys = []\n",
    "for n in range(1,30):\n",
    "    xs += [n]\n",
    "    y = 100*n\n",
    "    ys += [y]\n",
    "    \n",
    "plt.plot(xs, ys, 'g', label='linear')\n",
    "\n",
    "xs = []\n",
    "ys = []\n",
    "for n in range(1,30):\n",
    "    xs += [n]\n",
    "    y = 5*n*n\n",
    "    ys += [y]\n",
    "    \n",
    "plt.plot(xs, ys, 'c', label='quadratic')\n",
    "\n",
    "xs = []\n",
    "ys = []\n",
    "for n in range(1,30):\n",
    "    xs += [n]\n",
    "    y = math.pow(2,n)\n",
    "    ys += [y]\n",
    "    \n",
    "plt.plot(xs, ys, 'm', label='exponential')\n",
    "\n",
    "plt.legend(loc=\"upper right\")\n",
    "plt.ylim((0,2000))\n",
    "plt.show()"
   ]
  },
  {
   "cell_type": "markdown",
   "metadata": {},
   "source": [
    "## Built-in functions\n",
    "\n",
    "We can consider \"native\" operations to take a constant amount of time, but most of the *built-in* python functions will have a complexity greater than constant. Take for example the `count` function.\n",
    "\n",
    "The two codes below count the number of occurrences of elements in a list `L` and returns this information in a dictionary. Although both seem \"linear\" (one loop over `L`), `count1` has some hidden work in the call to the `count` function. See how their runtime graphs behave."
   ]
  },
  {
   "cell_type": "code",
   "execution_count": 9,
   "metadata": {
    "collapsed": true
   },
   "outputs": [],
   "source": [
    "def count1(L):\n",
    "    d = {}\n",
    "    for e in L:\n",
    "        c = L.count(e)\n",
    "        d[e] = c\n",
    "    return d\n",
    "        \n",
    "def count2(L):\n",
    "    d = {}\n",
    "    for e in L:\n",
    "        if e in d:\n",
    "            d[e] += 1\n",
    "        else:\n",
    "            d[e] = 1\n",
    "    return d"
   ]
  },
  {
   "cell_type": "code",
   "execution_count": 10,
   "metadata": {},
   "outputs": [
    {
     "data": {
      "image/png": "[encoded data removed]",
      "text/plain": [
       "<Figure size 432x288 with 1 Axes>"
      ]
     },
     "metadata": {},
     "output_type": "display_data"
    }
   ],
   "source": [
    "import random\n",
    "\n",
    "def genList(n):\n",
    "    L = []\n",
    "    for i in range(n):\n",
    "        x = random.randint(1,1000)\n",
    "        L += [x]\n",
    "    return L\n",
    "\n",
    "xs = []\n",
    "ys = []\n",
    "for i in range(1000):\n",
    "    L = genList(i)\n",
    "    t0 = time.time()\n",
    "    s = count1(L)\n",
    "    t1 = time.time()\n",
    "    t = t1 - t0\n",
    "    xs += [i]\n",
    "    ys += [t]\n",
    "    \n",
    "plt.plot(xs, ys, 'r')\n",
    "\n",
    "xs = []\n",
    "ys = []\n",
    "for i in range(1000):\n",
    "    L = genList(i)\n",
    "    t0 = time.time()\n",
    "    s = count2(L)\n",
    "    t1 = time.time()\n",
    "    t = t1 - t0\n",
    "    xs += [i]\n",
    "    ys += [t]\n",
    "    \n",
    "plt.plot(xs, ys, 'b')\n",
    "\n",
    "plt.show()\n",
    "    "
   ]
  },
  {
   "cell_type": "markdown",
   "metadata": {},
   "source": [
    "It turns out `count1` is actually *quadratic*. That is because of the `for` loop with `count` inside. `count` executes linearly on the size of the list, so what we have is:\n",
    "\n",
    "```\n",
    "# n is len(L)\n",
    "for e in L:        # runs at most n times\n",
    "    c = L.count(e) # runtime linear with respect to n, so takes a*n + b steps for some a and b\n",
    "    d[e] = c\n",
    "```\n",
    "\n",
    "That means the inner count will take $a*n + b$ steps, and that will run $n$ times (because of the outer loop). So this piece of code runs in $n*(a*n + b) = a*n*n + b*n \\in O(n^2)$.\n",
    "\n",
    "It is the same if we unfold the `count` function into its actual code, instead of calling it:\n",
    "\n",
    "```\n",
    "# n is len(L)\n",
    "for e in L:        # runs at most n times\n",
    "    c = 0\n",
    "    for x in L:    # runs at most n times\n",
    "        if x == e:\n",
    "            c += 1\n",
    "    d[e] = c\n",
    "```\n",
    "\n",
    "This code also runs in $O(n^2)$.\n",
    "\n",
    "**Remark:** The python built-in `in` command on lists and strings runs in linear time as well. If it is used for dictionaries, it runs in constant time.\n",
    "\n",
    "Suppose the nested loops were such that the lists had different sizes:"
   ]
  },
  {
   "cell_type": "code",
   "execution_count": 11,
   "metadata": {
    "collapsed": true
   },
   "outputs": [],
   "source": [
    "def countFrom(L1, L2):\n",
    "    d = {}\n",
    "    for e1 in L1:\n",
    "        c = 0\n",
    "        for e2 in L2:\n",
    "            if e2 == e1:\n",
    "                c += 1\n",
    "        d[e1] = c\n",
    "    return d"
   ]
  },
  {
   "cell_type": "markdown",
   "metadata": {},
   "source": [
    "Assume that $n$ is the length of `L1` and $m$ is the length of `L2`. Then, the outer loop runs $n$ times, and, for each of them, the inner loop runs $m$ times. That gives us a complexity of $O(n*m)$.\n",
    "\n",
    "If the loops were running one after the other, then we have a different situation:"
   ]
  },
  {
   "cell_type": "code",
   "execution_count": 12,
   "metadata": {
    "collapsed": true
   },
   "outputs": [],
   "source": [
    "def countBoth(L1, L2):\n",
    "    d = {}\n",
    "    \n",
    "    for e in L1:\n",
    "        if e in d:\n",
    "            d[e] += 1\n",
    "        else:\n",
    "            d[e] = 1\n",
    "    \n",
    "    for e in L2:\n",
    "        if e in d:\n",
    "            d[e] += 1\n",
    "        else:\n",
    "            d[e] = 1\n",
    "            \n",
    "    return d"
   ]
  },
  {
   "cell_type": "markdown",
   "metadata": {},
   "source": [
    "In that case, the first loop will run $n$ times, and once it is done the second loop starts and runs $m$ times. In that case, the complexity class is $O(n+m)$."
   ]
  }
 ],
 "metadata": {
  "kernelspec": {
   "display_name": "Python 3",
   "language": "python",
   "name": "python3"
  },
  "language_info": {
   "codemirror_mode": {
    "name": "ipython",
    "version": 3
   },
   "file_extension": ".py",
   "mimetype": "text/x-python",
   "name": "python",
   "nbconvert_exporter": "python",
   "pygments_lexer": "ipython3",
   "version": "3.6.3"
  }
 },
 "nbformat": 4,
 "nbformat_minor": 2
}
