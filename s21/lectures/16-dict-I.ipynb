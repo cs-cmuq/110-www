{
 "cells": [
  {
   "cell_type": "markdown",
   "metadata": {
    "collapsed": true
   },
   "source": [
    "# Dictionaries\n",
    "\n",
    "Dictionaries are a very useful kind of data-structure. It works more or less like lists, except that instead of indexing elements by a number (like `L[4]`), you can index using almost anything (strings, for example: `D[\"Qatar\"]`). More precisely, a dictionary associates *keys* (the indices) with *values*. Keys are unique and are associated with only one value. \n",
    "\n",
    "Another way of seeing a dictionary is as a set of key/value pairs. Note that there is no implicit order on the pairs, and the *keys are unique*.\n",
    "\n",
    "## Creating dictionaries\n",
    "\n",
    "A concrete dictionary can be declared using curly braces and colons, like this:"
   ]
  },
  {
   "cell_type": "code",
   "execution_count": 1,
   "metadata": {
    "collapsed": true
   },
   "outputs": [],
   "source": [
    "# COVID-19 infected persons, as of March 21, 2020\n",
    "covid = {\"Qatar\": 470,\n",
    "         \"US\": 19624,\n",
    "         \"Italy\": 47021,\n",
    "         \"China\": 81286,\n",
    "         \"Iran\": 19644,\n",
    "         \"South Korea\": 8652,\n",
    "         \"Oman\": 48,\n",
    "         \"Egypt\": 285,\n",
    "         \"Jordan\": 85,\n",
    "         \"Lebanon\": 177,\n",
    "         \"Philipines\": 230,\n",
    "         \"India\": 250\n",
    "        }"
   ]
  },
  {
   "cell_type": "markdown",
   "metadata": {},
   "source": [
    "The thing on the left of the colon is the key, and the thing on the right is the value."
   ]
  },
  {
   "cell_type": "markdown",
   "metadata": {},
   "source": [
    "Dictionaries can also be created from a list of pairs."
   ]
  },
  {
   "cell_type": "code",
   "execution_count": 2,
   "metadata": {},
   "outputs": [
    {
     "name": "stdout",
     "output_type": "stream",
     "text": [
      "{'Blue': 10, 'Red': 7, 'Green': 15, 'Black': 12}\n"
     ]
    }
   ],
   "source": [
    "L = [(\"Blue\", 10), (\"Red\", 7), (\"Green\", 15), (\"Black\", 12)]\n",
    "colors = dict(L)\n",
    "print(colors)"
   ]
  },
  {
   "cell_type": "markdown",
   "metadata": {},
   "source": [
    "The **empty** dictionary is created either using the function `dict()` or empty curly braces `{}`."
   ]
  },
  {
   "cell_type": "code",
   "execution_count": 3,
   "metadata": {},
   "outputs": [
    {
     "name": "stdout",
     "output_type": "stream",
     "text": [
      "{}\n",
      "{}\n"
     ]
    }
   ],
   "source": [
    "d1 = dict()\n",
    "d2 = {}\n",
    "print(d1)\n",
    "print(d2)"
   ]
  },
  {
   "cell_type": "markdown",
   "metadata": {},
   "source": [
    "## Adding entries\n",
    "\n",
    "Once you have a dictionary (possibly the empty one), you can add entries to it by assigning the value to the appropriate index:"
   ]
  },
  {
   "cell_type": "code",
   "execution_count": 4,
   "metadata": {},
   "outputs": [
    {
     "name": "stdout",
     "output_type": "stream",
     "text": [
      "{'Qatar': 'Doha', 'Germany': 'Berlin', 'Vietnam': 'Hanoi', 'Nigeria': 'Lagos'}\n"
     ]
    }
   ],
   "source": [
    "capitals = dict()\n",
    "capitals[\"Qatar\"] = \"Doha\"\n",
    "capitals[\"Germany\"] = \"Berlin\"\n",
    "capitals[\"Vietnam\"] = \"Hanoi\"\n",
    "capitals[\"Nigeria\"] = \"Lagos\"\n",
    "print(capitals)"
   ]
  },
  {
   "cell_type": "markdown",
   "metadata": {},
   "source": [
    "If you assign a value to an existing key, the old value is **overwritten**."
   ]
  },
  {
   "cell_type": "code",
   "execution_count": 5,
   "metadata": {},
   "outputs": [
    {
     "name": "stdout",
     "output_type": "stream",
     "text": [
      "{'Qatar': 'Doha', 'Germany': 'Berlin', 'Vietnam': 'Hanoi', 'Nigeria': 'Abuja'}\n"
     ]
    }
   ],
   "source": [
    "capitals[\"Nigeria\"] = \"Abuja\"\n",
    "print(capitals)"
   ]
  },
  {
   "cell_type": "markdown",
   "metadata": {},
   "source": [
    "## Getting values\n",
    "\n",
    "Values can be obtained by indexing with the key:"
   ]
  },
  {
   "cell_type": "code",
   "execution_count": 6,
   "metadata": {},
   "outputs": [
    {
     "name": "stdout",
     "output_type": "stream",
     "text": [
      "Abuja\n"
     ]
    }
   ],
   "source": [
    "v = capitals[\"Nigeria\"]\n",
    "print(v)"
   ]
  },
  {
   "cell_type": "markdown",
   "metadata": {},
   "source": [
    "If the key is not there, python raises a `KeyError`."
   ]
  },
  {
   "cell_type": "code",
   "execution_count": 7,
   "metadata": {},
   "outputs": [
    {
     "ename": "KeyError",
     "evalue": "'Russia'",
     "output_type": "error",
     "traceback": [
      "\u001b[0;31m---------------------------------------------------------------------------\u001b[0m",
      "\u001b[0;31mKeyError\u001b[0m                                  Traceback (most recent call last)",
      "\u001b[0;32m<ipython-input-7-9951b880e302>\u001b[0m in \u001b[0;36m<module>\u001b[0;34m()\u001b[0m\n\u001b[0;32m----> 1\u001b[0;31m \u001b[0mv\u001b[0m \u001b[0;34m=\u001b[0m \u001b[0mcapitals\u001b[0m\u001b[0;34m[\u001b[0m\u001b[0;34m\"Russia\"\u001b[0m\u001b[0;34m]\u001b[0m\u001b[0;34m\u001b[0m\u001b[0m\n\u001b[0m",
      "\u001b[0;31mKeyError\u001b[0m: 'Russia'"
     ]
    }
   ],
   "source": [
    "v = capitals[\"Russia\"]"
   ]
  },
  {
   "cell_type": "markdown",
   "metadata": {},
   "source": [
    "To avoid `KeyError` errors, you can check if the key is in the dictionary before getting its value (see below), or you can use the `get()` function. This function is useful if you want to get a default value in case the key is not in the dictionary. The first parameter is the key whose value you want, the second one is the value that is going to be returned in case the key is not in the dictionary."
   ]
  },
  {
   "cell_type": "code",
   "execution_count": 8,
   "metadata": {},
   "outputs": [
    {
     "name": "stdout",
     "output_type": "stream",
     "text": [
      "Number of cases in Qatar: 470\n",
      "Number of cases in Easter Island: 0\n"
     ]
    }
   ],
   "source": [
    "v1 = covid.get(\"Qatar\", 0)\n",
    "print(\"Number of cases in Qatar:\", v1)\n",
    "\n",
    "v2 = covid.get(\"Easter Island\", 0)\n",
    "print(\"Number of cases in Easter Island:\", v2)"
   ]
  },
  {
   "cell_type": "markdown",
   "metadata": {},
   "source": [
    "### d.values()\n",
    "\n",
    "Dictionaries provide us with the `values()` function, which returns an object containing all the values in the dictionary."
   ]
  },
  {
   "cell_type": "code",
   "execution_count": 9,
   "metadata": {},
   "outputs": [
    {
     "name": "stdout",
     "output_type": "stream",
     "text": [
      "dict_values(['Doha', 'Berlin', 'Hanoi', 'Abuja'])\n"
     ]
    }
   ],
   "source": [
    "vals = capitals.values()\n",
    "print(vals)"
   ]
  },
  {
   "cell_type": "markdown",
   "metadata": {},
   "source": [
    "To get the list inside this object, simply wrap it with `list()`:"
   ]
  },
  {
   "cell_type": "code",
   "execution_count": 10,
   "metadata": {},
   "outputs": [
    {
     "name": "stdout",
     "output_type": "stream",
     "text": [
      "['Doha', 'Berlin', 'Hanoi', 'Abuja']\n"
     ]
    }
   ],
   "source": [
    "lvals = list(vals)\n",
    "print(lvals)"
   ]
  },
  {
   "cell_type": "markdown",
   "metadata": {},
   "source": [
    "## Getting keys\n",
    "\n",
    "There is no direct way to get one particular key from the dictionary (since they are not indexed like values).\n",
    "\n",
    "To check if a *key* is in a dictionary, you can use `in`/`not in`. This is vey useful to avoid the `KeyError` shown above!"
   ]
  },
  {
   "cell_type": "code",
   "execution_count": 11,
   "metadata": {},
   "outputs": [
    {
     "data": {
      "text/plain": [
       "True"
      ]
     },
     "execution_count": 11,
     "metadata": {},
     "output_type": "execute_result"
    }
   ],
   "source": [
    "\"Qatar\" in capitals"
   ]
  },
  {
   "cell_type": "code",
   "execution_count": 12,
   "metadata": {},
   "outputs": [
    {
     "data": {
      "text/plain": [
       "True"
      ]
     },
     "execution_count": 12,
     "metadata": {},
     "output_type": "execute_result"
    }
   ],
   "source": [
    "\"Jordan\" not in capitals"
   ]
  },
  {
   "cell_type": "markdown",
   "metadata": {},
   "source": [
    "### d.keys()\n",
    "\n",
    "We can get all keys in a dictionary at one via the function `keys()`. Similar to `values()`, it returns an object with all the dictionary keys. To get a list out of it, wrap it with `list()`."
   ]
  },
  {
   "cell_type": "code",
   "execution_count": 13,
   "metadata": {},
   "outputs": [
    {
     "name": "stdout",
     "output_type": "stream",
     "text": [
      "['Qatar', 'Germany', 'Vietnam', 'Nigeria']\n"
     ]
    }
   ],
   "source": [
    "keys = list(capitals.keys())\n",
    "print(keys)"
   ]
  },
  {
   "cell_type": "markdown",
   "metadata": {},
   "source": [
    "## Number of entries\n",
    "\n",
    "The function `len(d)` returns the number of entries in the dictionary."
   ]
  },
  {
   "cell_type": "code",
   "execution_count": 14,
   "metadata": {},
   "outputs": [
    {
     "name": "stdout",
     "output_type": "stream",
     "text": [
      "4\n"
     ]
    }
   ],
   "source": [
    "print(len(capitals))"
   ]
  },
  {
   "cell_type": "markdown",
   "metadata": {},
   "source": [
    "## Removing entries\n",
    "\n",
    "An entry at key `k` can be removed from dictionary `d` via the `del` command:"
   ]
  },
  {
   "cell_type": "code",
   "execution_count": 15,
   "metadata": {},
   "outputs": [
    {
     "name": "stdout",
     "output_type": "stream",
     "text": [
      "{'Qatar': 470, 'US': 19624, 'Italy': 47021, 'China': 81286, 'Iran': 19644, 'South Korea': 8652, 'Egypt': 285, 'Jordan': 85, 'Lebanon': 177, 'Philipines': 230, 'India': 250}\n"
     ]
    }
   ],
   "source": [
    "del covid[\"Oman\"]\n",
    "print(covid)"
   ]
  },
  {
   "cell_type": "markdown",
   "metadata": {},
   "source": [
    "## Looping through dictionaries\n",
    "\n",
    "We can loop through dictionaries using a `for` loop, where the loop variable will range among the dictionary's keys."
   ]
  },
  {
   "cell_type": "code",
   "execution_count": 16,
   "metadata": {},
   "outputs": [
    {
     "name": "stdout",
     "output_type": "stream",
     "text": [
      "country = Qatar\n",
      "country = Germany\n",
      "country = Vietnam\n",
      "Vietnam's capital is Hanoi\n",
      "country = Nigeria\n"
     ]
    }
   ],
   "source": [
    "for country in capitals:\n",
    "        print(\"country =\", country)\n",
    "        if capitals[country] == \"Hanoi\":\n",
    "            print(country + \"'s capital is Hanoi\")"
   ]
  },
  {
   "cell_type": "markdown",
   "metadata": {},
   "source": [
    "## Exercise 1\n",
    "\n",
    "Ali recently got a 3D printer, and decided to open a business for printing messages in 3D letters. Printing in those printers is kind of slow, so he would like to group printing by letter. For example, if the message is `\"Congratulations, Ahmad!\"`, Ali would like to print 3 `\"a\"`s at once.\n",
    "\n",
    "Help Ali figure out how much of each character he needs to print. Implement the function `charFreq(s)` that takes a string (the message) as a parameter, and returns a dictionary where the keys are characters, and values are the number of times Ali needs to print them. Remember that:\n",
    "- spaces do not need to be printed\n",
    "- capitalization matters (i.e. `\"a\"` is different from `\"A\"`)\n",
    "- punctuation needs to be printed"
   ]
  },
  {
   "cell_type": "code",
   "execution_count": 17,
   "metadata": {},
   "outputs": [],
   "source": [
    "def charFreq(s):\n",
    "    return {}"
   ]
  },
  {
   "cell_type": "markdown",
   "metadata": {},
   "source": [
    "## Exercise 2\n",
    "\n",
    "Suppose you have a dictionary `d` of COVID-19 cases as the one above, where the keys are countries and the values are the number of cases in that country. Implement the function `sortByCases(d)` that returns a list of countries in decreasing order of COVID-19 cases."
   ]
  },
  {
   "cell_type": "code",
   "execution_count": 18,
   "metadata": {},
   "outputs": [],
   "source": [
    "def sortByCases(d):\n",
    "    return []"
   ]
  }
 ],
 "metadata": {
  "kernelspec": {
   "display_name": "Python 3",
   "language": "python",
   "name": "python3"
  },
  "language_info": {
   "codemirror_mode": {
    "name": "ipython",
    "version": 3
   },
   "file_extension": ".py",
   "mimetype": "text/x-python",
   "name": "python",
   "nbconvert_exporter": "python",
   "pygments_lexer": "ipython3",
   "version": "3.6.3"
  }
 },
 "nbformat": 4,
 "nbformat_minor": 2
}
